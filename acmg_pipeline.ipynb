{
 "cells": [
  {
   "cell_type": "markdown",
   "metadata": {},
   "source": [
    "# Finding ACMG Genes"
   ]
  },
  {
   "cell_type": "markdown",
   "metadata": {},
   "source": [
    "Selected variants will be annotated with the ACMG actionable gene table, Kaviar frequency, ClinVar clinical significance ratings, DANN and CADD predicted pathogenicity scores for SNV's, and coding consequence predictions using SnpEff (table in progress).\n",
    "\n",
    "Variants will be filtered for appropriate mode of inheritance and then labeled as predictive when there is presence of mutation(s) with appropriate inheritance (eg, 2 bi-allelic pathogenic mutations for a recessive disorder).  \n",
    "\n",
    "Mutations defined strictly as either:\n",
    "- Annotated in ClinVar with a clinical significance of 4 or 5, but never 2 or 3 or labeled pathogenic in HGMD (to be added later)  \n",
    "OR    \n",
    "- Novel in Kaviar with user-specified frequency and predicted to be disease-causing with a SnpEff impact score of 'high' "
   ]
  },
  {
   "cell_type": "markdown",
   "metadata": {},
   "source": [
    "## User Specified Parameters"
   ]
  },
  {
   "cell_type": "code",
   "execution_count": 122,
   "metadata": {
    "collapsed": true
   },
   "outputs": [],
   "source": [
    "# specify your impala host\n",
    "impala_host = 'ec2-54-86-98-154.compute-1.amazonaws.com'\n",
    "\n",
    "# enter maximum kaviar frequency to return\n",
    "kav_freq = '.03'\n",
    "\n",
    "# enter sample id's in list format or 'all'\n",
    "sample_list = ['102-00317-01', '102-00317-02', '102-00317-03a']\n",
    "#sample_list = 'all'\n",
    "# TODO: add ability to enter only family id and parition tables on family id\n",
    "\n",
    "# enter yes to retain only variants with \"HIGH\" impact coding consequences\n",
    "coding_cons = 'no'\n",
    "# functionality to be added when snpeff table complete\n",
    "\n",
    "########################\n",
    "## database locations ##\n",
    "########################\n",
    "# enter database.name for variant table\n",
    "var_table = 'training.illumina_vars'\n",
    "# enter database.name of global variants table\n",
    "gv_table = 'training.global_vars'\n",
    "# enter database.name of acmg_ensembl table\n",
    "acmg_table = 'p7_ref_grch37.acmg_ensembl'\n",
    "# enter user database to output tables\n",
    "out_db = 'training'\n",
    "# enter desired basename for output files\n",
    "out_name = 'acmg_genes'"
   ]
  },
  {
   "cell_type": "markdown",
   "metadata": {},
   "source": [
    "## Adding positional information to the ACMG gene list¶"
   ]
  },
  {
   "cell_type": "markdown",
   "metadata": {},
   "source": [
    "Chromosome, start and stop positions were added to the ACMG Gene list by joining it with the ensembl_genes table using gene name.\n",
    "\n",
    "    CREATE TABLE acmg_ensembl AS (\n",
    "        SELECT acmg.*, ens.chrom, ens.start, ens.stop, ens.gene_name, \n",
    "        ens.gene_id, ens.transcript_id\n",
    "        FROM p7_ref_grch37.acmg_genes acmg, p7_ref_grch37.ensembl_genes ens\n",
    "        WHERE acmg.gene = ens.gene_name\n",
    "     )\n",
    "\n",
    "The results were saved as training.acmg_ensembl"
   ]
  },
  {
   "cell_type": "markdown",
   "metadata": {},
   "source": [
    "## Parse User Arguments"
   ]
  },
  {
   "cell_type": "code",
   "execution_count": 123,
   "metadata": {
    "collapsed": false
   },
   "outputs": [],
   "source": [
    "# format sample id argument\n",
    "sample_arg = []\n",
    "if sample_list != 'all' and len(sample_list) > 1:\n",
    "    sample_arg.append(\"AND ill.subject_id IN ('\" + \"' , '\".join(sample_list) + \"')\")\n",
    "    subject_statement = \", \".join(str(i) for i in sample_arg)\n",
    "else: \n",
    "    print \"This analysis is designed for trios only.\""
   ]
  },
  {
   "cell_type": "code",
   "execution_count": 124,
   "metadata": {
    "collapsed": false
   },
   "outputs": [
    {
     "name": "stdout",
     "output_type": "stream",
     "text": [
      "AND ill.subject_id IN ('102-00317-01' , '102-00317-02' , '102-00317-03a')\n"
     ]
    }
   ],
   "source": [
    "# view query parameters\n",
    "print subject_statement"
   ]
  },
  {
   "cell_type": "markdown",
   "metadata": {},
   "source": [
    "## Connecting to Impala "
   ]
  },
  {
   "cell_type": "code",
   "execution_count": 125,
   "metadata": {
    "collapsed": true
   },
   "outputs": [],
   "source": [
    "# connect to impala\n",
    "from impala.dbapi import connect\n",
    "from impala.util import as_pandas\n",
    "\n",
    "# to connect to specific database, use the database argument\n",
    "conn=connect(host=impala_host, port=21050)"
   ]
  },
  {
   "cell_type": "code",
   "execution_count": 126,
   "metadata": {
    "collapsed": false
   },
   "outputs": [
    {
     "name": "stdout",
     "output_type": "stream",
     "text": [
      "Running the following query on impala: \n",
      "\n",
      "-- find pathogenic illumina variants in acmg regions\n",
      "with vars as (\n",
      "select ill.*, acmg.phenotype, acmg.mim_disorder, acmg.pmid_entry, acmg.age_onset,\n",
      "    acmg.mim_gene, acmg.inheritance, acmg.gene_id, acmg.transcript_id\n",
      "from training.illumina_vars as ill, p7_ref_grch37.acmg_ensembl acmg\n",
      "WHERE ill.chrom = acmg.chrom\n",
      "AND ill.pos BETWEEN acmg.start and acmg.stop\n",
      "AND ill.subject_id IN ('102-00317-01' , '102-00317-02' , '102-00317-03a')\n",
      ")\n",
      "  \n",
      "-- annotate and filter illumina variants\n",
      "select distinct vars.*, gv.rs_id, gv.strand, gv.gene_name, gv.gene_id, gv.transcript_name, gv.transcript_id,\n",
      "    gv.clin_sig, gv.clin_dbn, gv.kav_freq, gv.kav_source, gv.dbsnp_build, gv.var_type, gv.cadd_raw,\n",
      "    gv.dann_score, gv.interpro_domain\n",
      "from vars, training.global_vars as gv\n",
      "where vars.transcript_id = gv.transcript_id\n",
      "-- subset for rare variants with high impact or clinvar significant\n",
      "and ((gv.kav_freq < .03 or gv.kav_freq is null) \n",
      "    or \n",
      "    (gv.clin_sig NOT REGEXP '3|2[^5]|2$'  \n",
      "                     AND  gv.clin_sig REGEXP '4|[^25]5|^5'))\n",
      "\n"
     ]
    }
   ],
   "source": [
    "acmg_query = '''\n",
    "-- find pathogenic illumina variants in acmg regions\n",
    "with vars as (\n",
    "select ill.*, acmg.phenotype, acmg.mim_disorder, acmg.pmid_entry, acmg.age_onset,\n",
    "    acmg.mim_gene, acmg.inheritance, acmg.gene_id, acmg.transcript_id\n",
    "from {} as ill, {} acmg\n",
    "WHERE ill.chrom = acmg.chrom\n",
    "AND ill.pos BETWEEN acmg.start and acmg.stop\n",
    "{}\n",
    ")\n",
    "  \n",
    "-- annotate and filter illumina variants\n",
    "select distinct vars.*, gv.rs_id, gv.strand, gv.gene_name, gv.gene_id, gv.transcript_name, gv.transcript_id,\n",
    "    gv.clin_sig, gv.clin_dbn, gv.kav_freq, gv.kav_source, gv.dbsnp_build, gv.var_type, gv.cadd_raw,\n",
    "    gv.dann_score, gv.interpro_domain\n",
    "from vars, {} as gv\n",
    "where vars.transcript_id = gv.transcript_id\n",
    "-- subset for rare variants with high impact or clinvar significant\n",
    "and ((gv.kav_freq < {} or gv.kav_freq is null) \n",
    "    or \n",
    "    (gv.clin_sig NOT REGEXP '3|2[^5]|2$'  \n",
    "                     AND  gv.clin_sig REGEXP '4|[^25]5|^5'))\n",
    "'''.format(var_table, acmg_table, subject_statement, gv_table, kav_freq)\n",
    "\n",
    "# open connection, run query, close connection \n",
    "def run_query(query_name):\n",
    "    cur = conn.cursor()\n",
    "    # run query \n",
    "    print 'Running the following query on impala: \\n' + query_name\n",
    "    cur = conn.cursor()\n",
    "    cur.execute(query_name)\n",
    "    df = as_pandas(cur)\n",
    "    cur.close()\n",
    "    return df\n",
    "\n",
    "# run kaviar annotation query\n",
    "acmg_df = run_query(acmg_query)"
   ]
  },
  {
   "cell_type": "code",
   "execution_count": 127,
   "metadata": {
    "collapsed": false
   },
   "outputs": [
    {
     "name": "stdout",
     "output_type": "stream",
     "text": [
      "No variants located in ACMG regions.\n"
     ]
    }
   ],
   "source": [
    "# verify results were found before continuning\n",
    "if len(acmg_df) > 0:\n",
    "    print str(len(acmg_df)) + ' variants located in ACMG regions.'\n",
    "else: \n",
    "    print \"No variants located in ACMG regions.\""
   ]
  },
  {
   "cell_type": "markdown",
   "metadata": {},
   "source": [
    "## Examine MOI"
   ]
  },
  {
   "cell_type": "code",
   "execution_count": null,
   "metadata": {
    "collapsed": true
   },
   "outputs": [],
   "source": [
    "# subset data frame by trio member\n",
    "newborns = acmg_df[acmg_df['subject_id'].endswith('03')]\n",
    "mothers = acmg_df[acmg_df['subject_id'].endswith('01')]\n",
    "fathers = acmg_df[acmg_df['subject_id'].endswith('02')]"
   ]
  },
  {
   "cell_type": "markdown",
   "metadata": {},
   "source": [
    "The newborn subset was split to report predictive variants for:  \n",
    "\n",
    "- All variants in regions of dominant disorders  \n",
    "- All homozygous recessive variants in regions of autosomal recessive disorders  \n",
    "- All heterozygous variants in autosomal recessive regions for downstream analysis of compound heterozygosity"
   ]
  },
  {
   "cell_type": "code",
   "execution_count": null,
   "metadata": {
    "collapsed": true
   },
   "outputs": [],
   "source": [
    "# disable erroneous pandas warning\n",
    "pd.options.mode.chained_assignment = None\n",
    "\n",
    "# subset variants by variant MOI and/or zygosity\n",
    "nb_dominant = newborns[((newborns['inheritance'] == 'AD') & (newborns['predictive'] == True))]\n",
    "nb_dominant.name = 'dominant'\n",
    "\n",
    "nb_hom_recessive = newborns[((newborns['inheritance'] == 'AR') & (newborns['gt'] == '1/1') \\\n",
    "                             & (newborns['predictive'] == True))]\n",
    "nb_hom_recessive.name = 'hom_recessive'\n",
    "\n",
    "nb_het = newborns[((newborns['inheritance'] == 'AR') & (newborns['gt'] == '0/1') \\\n",
    "                   & (newborns['predictive'] == True))]"
   ]
  },
  {
   "cell_type": "markdown",
   "metadata": {},
   "source": [
    "### Locate Potential Compound Heterozygots"
   ]
  },
  {
   "cell_type": "markdown",
   "metadata": {},
   "source": [
    "Newborn het predictive variants were subset for variants inherited from het parents, and then grouped by gene and family:"
   ]
  },
  {
   "cell_type": "code",
   "execution_count": null,
   "metadata": {
    "collapsed": true
   },
   "outputs": [],
   "source": [
    "# subset het parent variants, as homozygous parents are not of interest\n",
    "mom_het = mothers.loc[mothers['gt'] == '0/1']\n",
    "dad_het = fathers.loc[fathers['gt'] == '0/1']\n",
    "           \n",
    "# function to find matching parent variants\n",
    "def find_parent_vars(nb_df, parent_df):\n",
    "    # merge dataframes on variant id\n",
    "    merged_df = pd.merge(nb_df, parent_df, on=['var_id'], how='inner')\n",
    "    # rename parent sample_id column to avoid dropping when removing '_y' cols\n",
    "    merged_df.rename(columns = {'member_y':'from_parent'}, inplace=True)\n",
    "    # drop extra y columns from merge with fathers\n",
    "    drop_y(merged_df)\n",
    "    #remove _x from colnames\n",
    "    merged_df.rename(columns=lambda x: x.replace('_x', ''), inplace=True)\n",
    "    return merged_df\n",
    "    \n",
    "# run function for each parent set\n",
    "if (len(mom_het) > 0) and (len(dad_het) > 0):\n",
    "    nb_and_mom = find_parent_vars(nb_het, mom_het)\n",
    "    nb_and_dad = find_parent_vars(nb_het, dad_het)\n",
    "    # merge variants found in either mother or father\n",
    "    het_cands = pd.concat([nb_and_mom,nb_and_dad]).drop_duplicates().reset_index(drop=True)\n",
    "    # group variants by gene name\n",
    "    by_gene = het_cands.groupby(['gene', 'family_id'])\n",
    "else:\n",
    "    print \"No compound het variants\""
   ]
  },
  {
   "cell_type": "markdown",
   "metadata": {},
   "source": [
    "After grouping the variants by gene and family, the variants will be filtered to keep only variants with at least one different variant coming from the mother and one from the father."
   ]
  },
  {
   "cell_type": "code",
   "execution_count": null,
   "metadata": {
    "collapsed": true
   },
   "outputs": [],
   "source": [
    "# function to find compound hets\n",
    "def find_comphets(gene_group, comphet_list_name):\n",
    "    for name, group in gene_group:\n",
    "        # if there is a variant in more than one position\n",
    "        if group.pos.nunique() > 1:\n",
    "            # and there are more than one variants from both parents\n",
    "            if len(group[group['from_parent'] == 'M'] > 1) and len(group[group['from_parent'] == 'F'] > 1):\n",
    "                comphet_list_name.append(group)\n",
    "            # or if there is only one variant from each parent\n",
    "            elif len(group[group['from_parent'] == 'M'] == 1) and len(group[group['from_parent'] == 'F'] == 1):\n",
    "                # and those variants are different\n",
    "                if len(group[group['from_parent'] == 'M'].pos - group[group['from_parent'] == 'F']) > 0:\n",
    "                        comphet_list_name.append(group)\n",
    "\n",
    "# create empty list to store comp_hets\n",
    "comp_hets = []\n",
    "\n",
    "if len(by_gene) > 0:\n",
    "    # run function on by_gene\n",
    "    find_comphets(by_gene, comp_hets)\n",
    "    # combine results into dataframe\n",
    "    comphet_df = pd.concat(comp_hets)\n",
    "    comphet_df.name = 'comp_het'\n",
    "else:\n",
    "    print 'No compound het variants found.'\n",
    "    comphet_df = pd.DataFrame()\n",
    "    comphet_df.name = 'comp_het'"
   ]
  },
  {
   "cell_type": "markdown",
   "metadata": {},
   "source": [
    "## Results"
   ]
  },
  {
   "cell_type": "code",
   "execution_count": null,
   "metadata": {
    "collapsed": true
   },
   "outputs": [],
   "source": [
    "# report variant counts\n",
    "def report_result_counts(results_df):\n",
    "    if len(results_df) > 0:\n",
    "        print str(len(results_df)) + ' {} variants found. \\n'.format(results_df.name)\n",
    "        phenotype = results_df['phenotype'].value_counts()\n",
    "        genes = results_df['gene'].unique()\n",
    "        print 'Phenotype: \\n', phenotype, '\\n'\n",
    "        print 'Affected gene(s): \\n', genes, '\\n'\n",
    "    else:\n",
    "         print \"No {} variants found. \\n\".format(results_df.name)\n",
    "        \n",
    "print \"Variants found:\"\n",
    "report_result_counts(nb_dominant)\n",
    "report_result_counts(nb_hom_recessive)\n",
    "report_result_counts(comphet_df)\n",
    "print \"\\n\""
   ]
  },
  {
   "cell_type": "markdown",
   "metadata": {},
   "source": [
    "### Saving output"
   ]
  },
  {
   "cell_type": "code",
   "execution_count": null,
   "metadata": {
    "collapsed": true
   },
   "outputs": [],
   "source": [
    "# add from_parent column to dom and hom_rec so we can keep info for comp_het\n",
    "nb_dominant['from_parent'] = 'NA'\n",
    "nb_hom_recessive['from_parent'] = 'NA'\n",
    "\n",
    "# merge and mark predicted variants\n",
    "def merge_predictors(df, out_list):\n",
    "    if len(df) > 0:\n",
    "        df['var_type'] = df.name\n",
    "        out_list.append(df)\n",
    "        print \"Saving {} {} variants to current working directory\".format(len(df), df.name)\n",
    "    else:\n",
    "        print \"No {} variants to save.\".format(df.name)\n",
    "\n",
    "# list to store patho output\n",
    "predict_list = []            \n",
    "\n",
    "merge_predictors(nb_dominant, predict_list)\n",
    "merge_predictors(nb_hom_recessive, predict_list)\n",
    "merge_predictors(comphet_df, predict_list)\n",
    "\n",
    "# merge results\n",
    "merged_patho = pd.concat(predict_list, axis=0)\n",
    "\n",
    "# remove unnecessary columns\n",
    "merge_df = merged_patho[np.r_[0:41, 43, 44, 46, 49:53, 55, 56]]\n",
    "\n",
    "# save to file\n",
    "merge_df.to_csv('predicted_ACMG.csv', header=True, encoding='utf-8', index=False)"
   ]
  },
  {
   "cell_type": "markdown",
   "metadata": {},
   "source": [
    "### Resources"
   ]
  },
  {
   "cell_type": "markdown",
   "metadata": {},
   "source": [
    "- dbNSFP: 3.0a  \n",
    "- SnpEff: 4.1h (build 2015-08-03) with GRCh37.74  \n",
    "- ClinVar:  October 30, 2015 build \n",
    "- Kaviar: 50810-Public "
   ]
  }
 ],
 "metadata": {
  "kernelspec": {
   "display_name": "Python 2",
   "language": "python",
   "name": "python2"
  },
  "language_info": {
   "codemirror_mode": {
    "name": "ipython",
    "version": 2
   },
   "file_extension": ".py",
   "mimetype": "text/x-python",
   "name": "python",
   "nbconvert_exporter": "python",
   "pygments_lexer": "ipython2",
   "version": "2.7.10"
  }
 },
 "nbformat": 4,
 "nbformat_minor": 0
}
