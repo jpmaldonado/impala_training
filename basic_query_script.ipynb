{
 "cells": [
  {
   "cell_type": "markdown",
   "metadata": {},
   "source": [
    "# Run a query on impala and save results as pandas dataframe"
   ]
  },
  {
   "cell_type": "markdown",
   "metadata": {},
   "source": [
    "## Make a connection object"
   ]
  },
  {
   "cell_type": "code",
   "execution_count": 1,
   "metadata": {
    "collapsed": true
   },
   "outputs": [],
   "source": [
    "# import needed modules\n",
    "from impala.util import as_pandas\n",
    "import pandas as pd\n",
    "from impala.dbapi import connect\n",
    "\n",
    "# disable extraneous pandas warning\n",
    "pd.options.mode.chained_assignment = None"
   ]
  },
  {
   "cell_type": "markdown",
   "metadata": {},
   "source": [
    "## Enter your impala host name"
   ]
  },
  {
   "cell_type": "code",
   "execution_count": 2,
   "metadata": {
    "collapsed": true
   },
   "outputs": [],
   "source": [
    "impala_host = 'ec2-54-86-98-154.compute-1.amazonaws.com'"
   ]
  },
  {
   "cell_type": "markdown",
   "metadata": {},
   "source": [
    "## Enter your query below"
   ]
  },
  {
   "cell_type": "code",
   "execution_count": 6,
   "metadata": {
    "collapsed": true
   },
   "outputs": [],
   "source": [
    "query = '''\n",
    "\n",
    "SELECT * \n",
    "FROM training.global_vars\n",
    "LIMIT 5\n",
    "'''"
   ]
  },
  {
   "cell_type": "markdown",
   "metadata": {},
   "source": [
    "## Create a function to run the query"
   ]
  },
  {
   "cell_type": "code",
   "execution_count": 7,
   "metadata": {
    "collapsed": true
   },
   "outputs": [],
   "source": [
    "def run_query(query_name):\n",
    "    \"\"\"\n",
    "    opens odbc connection and runs query\n",
    "     saves results as table, closes connection\n",
    "    :param query_name: name of query statement to run\n",
    "    :param out_db: name of output database\n",
    "    :param out_name: name of output table name\n",
    "    :return: table of results saved on impala in specified output dir\n",
    "    \"\"\"\n",
    "    # create connection object\n",
    "    conn=connect(host=impala_host, port=21050, timeout=120)\n",
    "    cur = conn.cursor()\n",
    "    # run query\n",
    "    print 'Running the query on impala....'\n",
    "    cur.execute(query_name)\n",
    "    # download results as pandas dataframe\n",
    "    results_df = as_pandas(cur)\n",
    "    if len(results_df) > 0:\n",
    "        print 'Query finished. Closing connection.'\n",
    "        return results_df\n",
    "    else:\n",
    "        print 'No results found.'\n",
    "    cur.close()\n",
    "    conn.close()"
   ]
  },
  {
   "cell_type": "markdown",
   "metadata": {},
   "source": [
    "## Run the Query, Downloading Results as a Pandas dataframe"
   ]
  },
  {
   "cell_type": "code",
   "execution_count": 8,
   "metadata": {
    "collapsed": false
   },
   "outputs": [
    {
     "name": "stdout",
     "output_type": "stream",
     "text": [
      "Running the query on impala....\n",
      "Query finished. Closing connection.\n"
     ]
    }
   ],
   "source": [
    "# run query to save result as pandas data frame\n",
    "results_df = run_query(query)"
   ]
  },
  {
   "cell_type": "code",
   "execution_count": 9,
   "metadata": {
    "collapsed": false
   },
   "outputs": [
    {
     "name": "stdout",
     "output_type": "stream",
     "text": [
      "         pos ref alt        rs_id strand gene_name          gene_id  \\\n",
      "0  124906256   A   G         None      -   SLC12A8  ENSG00000221955   \n",
      "1  136035796   G   A  rs370504998      +      PCCB  ENSG00000114054   \n",
      "2  184038485   C   T         None      +    EIF4G1  ENSG00000114867   \n",
      "3  195510515   C   T  rs202191853      -      MUC4  ENSG00000145113   \n",
      "4   14176340   C   G         None      +    TMEM43  ENSG00000170876   \n",
      "\n",
      "  transcript_name    transcript_id clin_sig clin_dbn  kav_freq  \\\n",
      "0     SLC12A8-005  ENST00000473262     None     None  0.000006   \n",
      "1        PCCB-003  ENST00000469217     None     None  0.000052   \n",
      "2      EIF4G1-015  ENST00000444861     None     None  0.000019   \n",
      "3        MUC4-013  ENST00000477756     None     None  0.000213   \n",
      "4      TMEM43-001  ENST00000306077     None     None  0.000019   \n",
      "\n",
      "                                          kav_source dbsnp_build var_type  \\\n",
      "0                                        63000exomes        None     None   \n",
      "1                               63000exomes|Geuvadis         138      SNV   \n",
      "2                                        63000exomes        None     None   \n",
      "3  HGDP00665|HGDP00778|HGDP00998|HGDP01029|HGDP01...         137      SNV   \n",
      "4                                        63000exomes        None     None   \n",
      "\n",
      "   cadd_raw  dann_score                                    interpro_domain  \\\n",
      "0  4.671292    0.996495                 Amino acid permease/ SLC12A domain   \n",
      "1  4.355111    0.976356  Acetyl-coenzyme A carboxyltransferase, C-termi...   \n",
      "2  4.397761    0.998771                                                  .   \n",
      "3  0.671780    0.268827                                                  .   \n",
      "4  4.780416    0.995500                                                  .   \n",
      "\n",
      "  chrom  \n",
      "0     3  \n",
      "1     3  \n",
      "2     3  \n",
      "3     3  \n",
      "4     3  \n"
     ]
    }
   ],
   "source": [
    "print results_df.head(5)"
   ]
  },
  {
   "cell_type": "markdown",
   "metadata": {},
   "source": [
    "And now you have a pandas dataframe for downstream analysis! "
   ]
  }
 ],
 "metadata": {
  "kernelspec": {
   "display_name": "Python 2",
   "language": "python",
   "name": "python2"
  },
  "language_info": {
   "codemirror_mode": {
    "name": "ipython",
    "version": 2
   },
   "file_extension": ".py",
   "mimetype": "text/x-python",
   "name": "python",
   "nbconvert_exporter": "python",
   "pygments_lexer": "ipython2",
   "version": "2.7.10"
  }
 },
 "nbformat": 4,
 "nbformat_minor": 0
}
