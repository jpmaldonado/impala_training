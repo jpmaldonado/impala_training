{
 "cells": [
  {
   "cell_type": "markdown",
   "metadata": {},
   "source": [
    "# Interacting with impala using python"
   ]
  },
  {
   "cell_type": "markdown",
   "metadata": {},
   "source": [
    "Connecting to impala is easy using the [impyla](https://github.com/cloudera/impyla) or [ibis](https://github.com/cloudera/ibis) module. Since the Ibis module is still under devlopment, this tutorial will only cover impyla."
   ]
  },
  {
   "cell_type": "markdown",
   "metadata": {},
   "source": [
    "## Impyla Module"
   ]
  },
  {
   "cell_type": "markdown",
   "metadata": {},
   "source": [
    "The Impyla module is easy to use if you know SQL. You can simply write a query, execute it in Python, and pull the results down in a pandas dataframe for downstrem analysis. "
   ]
  },
  {
   "cell_type": "markdown",
   "metadata": {},
   "source": [
    "### Run First Time: Install impyla"
   ]
  },
  {
   "cell_type": "code",
   "execution_count": null,
   "metadata": {
    "collapsed": true
   },
   "outputs": [],
   "source": [
    "pip install impyla"
   ]
  },
  {
   "cell_type": "markdown",
   "metadata": {},
   "source": [
    "If pip is not installed on your system, you can visit [this website](http://pip.readthedocs.org/en/stable/installing/) or install pip using anaconda:"
   ]
  },
  {
   "cell_type": "code",
   "execution_count": null,
   "metadata": {
    "collapsed": true
   },
   "outputs": [],
   "source": [
    "conda install pip"
   ]
  },
  {
   "cell_type": "markdown",
   "metadata": {},
   "source": [
    "### Creating a Connection"
   ]
  },
  {
   "cell_type": "markdown",
   "metadata": {},
   "source": [
    "To connect to impala, first create a connection string specifying your impala hostname and port. The default port for impala is 21050."
   ]
  },
  {
   "cell_type": "code",
   "execution_count": 6,
   "metadata": {
    "collapsed": false
   },
   "outputs": [],
   "source": [
    "from impala.dbapi import connect\n",
    "\n",
    "#create a connection, replace 'impala_host' with your host name\n",
    "conn=connect(host=my_host, port=21050)"
   ]
  },
  {
   "cell_type": "markdown",
   "metadata": {},
   "source": [
    "Once you setup the connection string, you can create a cursor object for intereacting with the database:"
   ]
  },
  {
   "cell_type": "code",
   "execution_count": 2,
   "metadata": {
    "collapsed": true
   },
   "outputs": [],
   "source": [
    "#create a cursor object to interact with the db\n",
    "cur = conn.cursor()"
   ]
  },
  {
   "cell_type": "code",
   "execution_count": 3,
   "metadata": {
    "collapsed": false
   },
   "outputs": [
    {
     "name": "stdout",
     "output_type": "stream",
     "text": [
      "<impala.hiveserver2.HiveServer2Cursor object at 0x102d87d90>\n"
     ]
    }
   ],
   "source": [
    "# view cursor object\n",
    "print cur"
   ]
  },
  {
   "cell_type": "code",
   "execution_count": 5,
   "metadata": {
    "collapsed": false
   },
   "outputs": [
    {
     "name": "stdout",
     "output_type": "stream",
     "text": [
      "('_impala_builtins',)\n",
      "('clarity2',)\n",
      "('default',)\n",
      "('p7_archive',)\n",
      "('p7_itmi',)\n",
      "('p7_platform',)\n",
      "('p7_product',)\n",
      "('p7_ref_grch37',)\n",
      "('p7_ref_hg19',)\n",
      "('p7_staging',)\n",
      "('training',)\n"
     ]
    }
   ],
   "source": [
    "test = \"show databases\"\n",
    "cur.execute(test)\n",
    "\n",
    "#print test_results# print results\n",
    "for row in cur.fetchall():\n",
    "    print row"
   ]
  },
  {
   "cell_type": "markdown",
   "metadata": {},
   "source": [
    "### Run Queries"
   ]
  },
  {
   "cell_type": "markdown",
   "metadata": {},
   "source": [
    "Python interacts with impala by executing sql queries using cur.execute() to execute the query, and then using cur.fetchall() to grab the results."
   ]
  },
  {
   "cell_type": "markdown",
   "metadata": {},
   "source": [
    "### Print results to screen"
   ]
  },
  {
   "cell_type": "code",
   "execution_count": 16,
   "metadata": {
    "collapsed": false
   },
   "outputs": [
    {
     "name": "stdout",
     "output_type": "stream",
     "text": [
      "('1', 0, 2300000, 'p36.33', 'gneg')\n",
      "('1', 2300000, 5400000, 'p36.32', 'gpos25')\n",
      "('1', 5400000, 7200000, 'p36.31', 'gneg')\n",
      "('1', 7200000, 9200000, 'p36.23', 'gpos25')\n",
      "('1', 9200000, 12700000, 'p36.22', 'gneg')\n"
     ]
    }
   ],
   "source": [
    "test_query = 'SELECT * from p7_ref_grch37.cytoband limit 5'\n",
    "\n",
    "# execute sql query\n",
    "cur.execute(test_query)\n",
    "\n",
    "#print test_results# print results\n",
    "for row in cur.fetchall():\n",
    "    print row"
   ]
  },
  {
   "cell_type": "markdown",
   "metadata": {},
   "source": [
    "### Save results as pandas table"
   ]
  },
  {
   "cell_type": "code",
   "execution_count": 18,
   "metadata": {
    "collapsed": false
   },
   "outputs": [
    {
     "name": "stdout",
     "output_type": "stream",
     "text": [
      "  chrom    start      stop    name gie_stain\n",
      "0     1        0   2300000  p36.33      gneg\n",
      "1     1  2300000   5400000  p36.32    gpos25\n",
      "2     1  5400000   7200000  p36.31      gneg\n",
      "3     1  7200000   9200000  p36.23    gpos25\n",
      "4     1  9200000  12700000  p36.22      gneg\n"
     ]
    }
   ],
   "source": [
    "# import pandas impala api\n",
    "from impala.util import as_pandas \n",
    "\n",
    "# execute sql query\n",
    "cur.execute(test_query)\n",
    "\n",
    "# save results as dataframe\n",
    "results = as_pandas(cur)\n",
    "\n",
    "print results"
   ]
  },
  {
   "cell_type": "markdown",
   "metadata": {},
   "source": [
    "### View available databases and tables"
   ]
  },
  {
   "cell_type": "markdown",
   "metadata": {},
   "source": [
    "To see what databases are available in impala, let's run a simple SQL statement to view available databases 'SHOW databases'. "
   ]
  },
  {
   "cell_type": "code",
   "execution_count": 19,
   "metadata": {
    "collapsed": false
   },
   "outputs": [
    {
     "name": "stdout",
     "output_type": "stream",
     "text": [
      "('__ibis_tmp',)\n",
      "('_impala_builtins',)\n",
      "('cagi_pgp_2015',)\n",
      "('clarity2',)\n",
      "('default',)\n",
      "('p7_archive',)\n",
      "('p7_itmi',)\n",
      "('p7_platform',)\n",
      "('p7_product',)\n",
      "('p7_ref_grch37',)\n",
      "('p7_staging',)\n",
      "('training',)\n",
      "('users_hrishi',)\n",
      "('users_selasady',)\n",
      "('users_vdhankan',)\n"
     ]
    }
   ],
   "source": [
    "#view available databases\n",
    "cur.execute('SHOW DATABASES')\n",
    "\n",
    "#fetch results of cur.execute()\n",
    "for row in cur.fetchall():\n",
    "    print row"
   ]
  },
  {
   "cell_type": "markdown",
   "metadata": {},
   "source": [
    "Let's take a look at the public resources available for the grch37 build by first selecting that database (p7_ref_grch37) with a SQL USE statement 'USE p7_ref_grch37', then asking to see all the tables in that database:"
   ]
  },
  {
   "cell_type": "code",
   "execution_count": 20,
   "metadata": {
    "collapsed": false
   },
   "outputs": [
    {
     "name": "stdout",
     "output_type": "stream",
     "text": [
      "('acmg_ensembl',)\n",
      "('acmg_genes',)\n",
      "('cadd',)\n",
      "('cadd_tsv',)\n",
      "('clinvar',)\n",
      "('clinvar_summary',)\n",
      "('cytoband',)\n",
      "('dann',)\n",
      "('dbnsfp_variant',)\n",
      "('dbsnp',)\n",
      "('ensembl_genes',)\n",
      "('esp_exomes',)\n",
      "('go_goa',)\n",
      "('kaviar',)\n",
      "('kaviar_isb',)\n",
      "('mirbase',)\n",
      "('nbs_ensembl',)\n",
      "('nbs_genes',)\n",
      "('pfam_clans',)\n",
      "('pfam_regions',)\n",
      "('refseq',)\n",
      "('refseq_map',)\n",
      "('repeatmasker',)\n",
      "('ucsc_genes',)\n",
      "('ucsc_genomicsuperdups',)\n",
      "('ucsc_kgxref',)\n",
      "('ucsc_knowngene',)\n",
      "('uniprot',)\n"
     ]
    }
   ],
   "source": [
    "#select a particular database to use\n",
    "cur.execute('USE p7_ref_grch37')\n",
    "\n",
    "#view tables in selected database \n",
    "#if no db is selected, you will see tables in default db\n",
    "cur.execute('SHOW TABLES')\n",
    "\n",
    "# view results\n",
    "for row in cur.fetchall():\n",
    "    print row"
   ]
  },
  {
   "cell_type": "markdown",
   "metadata": {},
   "source": [
    "### Viewing table information"
   ]
  },
  {
   "cell_type": "markdown",
   "metadata": {},
   "source": [
    "In order to match up fields from different tables, it helps to have more information about what each table contains. The SQL \"DESCRIBE\" statement can be used to find out column names, data types and a description of the contents:"
   ]
  },
  {
   "cell_type": "code",
   "execution_count": 21,
   "metadata": {
    "collapsed": false
   },
   "outputs": [
    {
     "name": "stdout",
     "output_type": "stream",
     "text": [
      "('chrom', 'string', 'Chromosome number')\n",
      "('start', 'int', 'Start position in genoSeq (renamed from chromstart)')\n",
      "('stop', 'int', 'End position in genoSeq (renamed from chromend)')\n",
      "('name', 'string', 'Name of cytogenetic band')\n",
      "('gie_stain', 'string', 'Giesma stain results (renamed from gieStain)')\n"
     ]
    }
   ],
   "source": [
    "cur.execute('DESCRIBE p7_ref_grch37.cytoband')\n",
    "for row in cur.fetchall():\n",
    "    print row"
   ]
  },
  {
   "cell_type": "markdown",
   "metadata": {},
   "source": [
    "## Connect with Ibis"
   ]
  },
  {
   "cell_type": "markdown",
   "metadata": {},
   "source": [
    "Ibis provides a lot more functionality than Impyla and instead of writing SQL queries, you can use a syntax almost identical to the syntax in the Pandas module, making it very easy to work with tabular data. \n",
    "\n",
    "In Ibis, you have to explicity let python know when to pull results into memory, making it much quicker to subset and filter data than with the impyla module. "
   ]
  },
  {
   "cell_type": "markdown",
   "metadata": {},
   "source": [
    "### Create connection object"
   ]
  },
  {
   "cell_type": "code",
   "execution_count": 1,
   "metadata": {
    "collapsed": false,
    "scrolled": true
   },
   "outputs": [],
   "source": [
    "import ibis\n",
    "import os\n",
    "\n",
    "# connect to impala with ibis\n",
    "hdfs_port = os.environ.get('glados16', 50090)\n",
    "hdfs = ibis.hdfs_connect(host='glados16', port=hdfs_port, user='hdfs')\n",
    "con = ibis.impala.connect(host='glados19', port=21050, timeout=120)\n",
    "\n",
    "# enable interactive mode\n",
    "ibis.options.interactive = True"
   ]
  },
  {
   "cell_type": "markdown",
   "metadata": {},
   "source": [
    "### View Databases"
   ]
  },
  {
   "cell_type": "code",
   "execution_count": 2,
   "metadata": {
    "collapsed": false
   },
   "outputs": [
    {
     "data": {
      "text/plain": [
       "['__ibis_tmp',\n",
       " '_impala_builtins',\n",
       " 'cagi_pgp_2015',\n",
       " 'clarity2',\n",
       " 'default',\n",
       " 'p7_archive',\n",
       " 'p7_itmi',\n",
       " 'p7_platform',\n",
       " 'p7_product',\n",
       " 'p7_ref_grch37',\n",
       " 'p7_staging',\n",
       " 'training',\n",
       " 'users_hrishi',\n",
       " 'users_selasady',\n",
       " 'users_vdhankan']"
      ]
     },
     "execution_count": 2,
     "metadata": {},
     "output_type": "execute_result"
    }
   ],
   "source": [
    "con.list_databases()"
   ]
  },
  {
   "cell_type": "markdown",
   "metadata": {},
   "source": [
    "### List tables"
   ]
  },
  {
   "cell_type": "code",
   "execution_count": 29,
   "metadata": {
    "collapsed": false
   },
   "outputs": [
    {
     "data": {
      "text/plain": [
       "['acmg_ensembl',\n",
       " 'acmg_genes',\n",
       " 'cadd',\n",
       " 'cadd_tsv',\n",
       " 'clinvar',\n",
       " 'clinvar_summary',\n",
       " 'cytoband',\n",
       " 'dann',\n",
       " 'dbnsfp_variant',\n",
       " 'dbsnp',\n",
       " 'ensembl_genes',\n",
       " 'esp_exomes',\n",
       " 'go_goa',\n",
       " 'kaviar',\n",
       " 'kaviar_isb',\n",
       " 'mirbase',\n",
       " 'nbs_ensembl',\n",
       " 'nbs_genes',\n",
       " 'pfam_clans',\n",
       " 'pfam_regions',\n",
       " 'refseq',\n",
       " 'refseq_map',\n",
       " 'repeatmasker',\n",
       " 'ucsc_genes',\n",
       " 'ucsc_genomicsuperdups',\n",
       " 'ucsc_kgxref',\n",
       " 'ucsc_knowngene',\n",
       " 'uniprot']"
      ]
     },
     "execution_count": 29,
     "metadata": {},
     "output_type": "execute_result"
    }
   ],
   "source": [
    "con.list_tables(database='p7_ref_grch37')"
   ]
  },
  {
   "cell_type": "markdown",
   "metadata": {},
   "source": [
    "### Connect to a table"
   ]
  },
  {
   "cell_type": "code",
   "execution_count": 35,
   "metadata": {
    "collapsed": false
   },
   "outputs": [
    {
     "name": "stdout",
     "output_type": "stream",
     "text": [
      "  chrom    start      stop    name gie_stain\n",
      "0     1        0   2300000  p36.33      gneg\n",
      "1     1  2300000   5400000  p36.32    gpos25\n",
      "2     1  5400000   7200000  p36.31      gneg\n",
      "3     1  7200000   9200000  p36.23    gpos25\n",
      "4     1  9200000  12700000  p36.22      gneg\n"
     ]
    }
   ],
   "source": [
    "db = 'p7_ref_grch37'\n",
    "\n",
    "# connect to variant tables\n",
    "cytoband = con.table('cytoband', database=db)\n",
    "\n",
    "print cytoband.limit(5)"
   ]
  },
  {
   "cell_type": "markdown",
   "metadata": {},
   "source": [
    "### Downloading table object as pandas dataframe"
   ]
  },
  {
   "cell_type": "code",
   "execution_count": 36,
   "metadata": {
    "collapsed": false
   },
   "outputs": [
    {
     "name": "stdout",
     "output_type": "stream",
     "text": [
      "  chrom    start      stop    name gie_stain\n",
      "0     1        0   2300000  p36.33      gneg\n",
      "1     1  2300000   5400000  p36.32    gpos25\n",
      "2     1  5400000   7200000  p36.31      gneg\n",
      "3     1  7200000   9200000  p36.23    gpos25\n",
      "4     1  9200000  12700000  p36.22      gneg\n"
     ]
    }
   ],
   "source": [
    "cytoband_df = con.table('cytoband', database=db).execute()\n",
    "print cytoband_df.head(5)"
   ]
  },
  {
   "cell_type": "markdown",
   "metadata": {},
   "source": [
    "### Save table to impala"
   ]
  },
  {
   "cell_type": "markdown",
   "metadata": {},
   "source": [
    "To create a new table on impala, you first need to specify the table schema in ('colname', 'data_type') format as follows. \n",
    "\n",
    "In the next release of Ibis, you will be able to save a pandas dataframe directly to Ibis. "
   ]
  },
  {
   "cell_type": "code",
   "execution_count": 42,
   "metadata": {
    "collapsed": false
   },
   "outputs": [],
   "source": [
    "# create table schema\n",
    "test_schema = ibis.schema([\n",
    "    ('chrom', 'string'), \n",
    "    ('start', 'int32'),\n",
    "    ('stop', 'int32'),\n",
    "    ('name', 'string'),\n",
    "    ('gie_stain', 'string')\n",
    "        ])\n",
    "\n",
    "# upload table to impala\n",
    "con.create_table('cytoband_test', cytoband.limit(5), schema=test_schema, database='training')"
   ]
  },
  {
   "cell_type": "markdown",
   "metadata": {
    "collapsed": true
   },
   "source": [
    "## Close connection to impala"
   ]
  },
  {
   "cell_type": "markdown",
   "metadata": {},
   "source": [
    "Once you are finished with a query, it's important to close the connection object. "
   ]
  },
  {
   "cell_type": "code",
   "execution_count": 43,
   "metadata": {
    "collapsed": true
   },
   "outputs": [],
   "source": [
    "# impyla\n",
    "conn.close()\n",
    "\n",
    "#ibis\n",
    "con.close()"
   ]
  }
 ],
 "metadata": {
  "kernelspec": {
   "display_name": "Python 2",
   "language": "python",
   "name": "python2"
  },
  "language_info": {
   "codemirror_mode": {
    "name": "ipython",
    "version": 2
   },
   "file_extension": ".py",
   "mimetype": "text/x-python",
   "name": "python",
   "nbconvert_exporter": "python",
   "pygments_lexer": "ipython2",
   "version": "2.7.10"
  }
 },
 "nbformat": 4,
 "nbformat_minor": 0
}
