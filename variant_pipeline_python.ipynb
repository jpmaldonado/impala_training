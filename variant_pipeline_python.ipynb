{
 "cells": [
  {
   "cell_type": "markdown",
   "metadata": {},
   "source": [
    "# Python Variant Pipeline"
   ]
  },
  {
   "cell_type": "markdown",
   "metadata": {},
   "source": [
    "Use this python script to connect to impala, find variants in subjects and gene regions of interest, annotate them with the following list of annotations, and save results to a file or impala table: \n",
    "\n",
    "- Kaviar allele frequency\n",
    "- ClinVar significance rating and disorder description\n",
    "- dbSNP rsID\n",
    "- CADD and DANN pathogenicity rating\n",
    "- Ensembl gene name and gene id\n",
    "- Predicted coding consequences * (available soon)\n",
    "- Save results as impala table (available soon)"
   ]
  },
  {
   "cell_type": "markdown",
   "metadata": {},
   "source": [
    "## Setup your parameters"
   ]
  },
  {
   "cell_type": "markdown",
   "metadata": {},
   "source": [
    "Each of the following parameters should be entered in python list format unless otherwise specified.  \n",
    "\n",
    "Or enter 'all' to skip that particular filter. "
   ]
  },
  {
   "cell_type": "code",
   "execution_count": 18,
   "metadata": {
    "collapsed": true
   },
   "outputs": [],
   "source": [
    "# list of genes to search in\n",
    "gene_list = ['NBP%']\n",
    "\n",
    "# chromosome to search in\n",
    "chrom_list = ['1', '3']\n",
    "\n",
    "# subject id's to include\n",
    "#subject_list = ['102-00511-02', '5']\n",
    "subject_list = 'all'\n",
    "\n",
    "# members to include (NB, M, F) or 'all'\n",
    "#member_list = ['NB', 'M']\n",
    "member_list = 'all'\n",
    "\n",
    "# genotype to include ('0/1', '1/1', '1/2') or 'all'\n",
    "#geno_list = ['0/1']\n",
    "geno_list = 'all'\n",
    "\n",
    "# max kaviar allele frequency to return, formatted as string, or 'all'\n",
    "max_kav_freq = '.03'\n",
    "\n",
    "# return only variants markes as non-conflicted significant in clinvar\n",
    "# (siginicance rating of 4 or 5, but never 2 or 3)\n",
    "# enter as 'yes' or 'no'\n",
    "clin_patho = 'yes'\n",
    "\n",
    "# minimum dann score to return\n",
    "min_dann = 0.96\n",
    "\n",
    "# return only variants with 'HIGH' coding consequences\n",
    "# enter 'yes' or 'no'\n",
    "coding_impact = 'no'\n",
    "\n",
    "# enter your impala host name\n",
    "impala_host = 'ec2-54-86-98-154.compute-1.amazonaws.com'"
   ]
  },
  {
   "cell_type": "markdown",
   "metadata": {},
   "source": [
    "## Parse User Arguments"
   ]
  },
  {
   "cell_type": "markdown",
   "metadata": {},
   "source": [
    "### Create functions to parse user arguments"
   ]
  },
  {
   "cell_type": "markdown",
   "metadata": {},
   "source": [
    "Run this cell, but no need to make any changes to it. "
   ]
  },
  {
   "cell_type": "code",
   "execution_count": 20,
   "metadata": {
    "collapsed": false
   },
   "outputs": [],
   "source": [
    "def label_member(trio_arg):\n",
    "    \"\"\"\n",
    "    function to create a sql statement from user trio argument for which\n",
    "    trio members to include in analysis\n",
    "    :param tbl_name: alias of tablename used in query as string, ex. 'bv'\n",
    "    :param trio_arg: list of trio members to include, ex. 'M','F','NB'\n",
    "    :return: member_arg\n",
    "    \"\"\"\n",
    "    member_list = []\n",
    "    for member in trio_arg:\n",
    "        if member == 'NB':\n",
    "            member_list.append(\"subject_id LIKE '%03'\")\n",
    "        if member == 'M':\n",
    "            member_list.append(\"subject_id LIKE '%01'\")\n",
    "        if member == 'F':\n",
    "            member_list.append(\"subject_id LIKE '%02'\")\n",
    "        if member_list == 'all':\n",
    "            member_list =''\n",
    "    if len(member_list) > 0:\n",
    "        member_arg = 'AND (' + ' OR '.join(member_list) + ')'\n",
    "    # otherwise statement is empty\n",
    "    else:\n",
    "        member_arg = ''\n",
    "    return member_arg\n",
    "\n",
    "def parse_arg_list(arg_list, col_name):\n",
    "    \"\"\"\n",
    "    format user arg lists \n",
    "    :param tbl_name: alias of tablename used in query as string, ex. 'vars'\n",
    "    :param arg_list: user arg list to parse\n",
    "    :return: query_arg assign to a variable to create sql statements\n",
    "    \"\"\"\n",
    "    wildcard_arg=[]\n",
    "    reg_arg = []\n",
    "    args = []\n",
    "    # if the user does not equal all\n",
    "    if arg_list != 'all':\n",
    "        # for each argument in the list\n",
    "        for arg in arg_list:\n",
    "            # if the argument contains a wildcard\n",
    "            if '%' in arg:\n",
    "                # append the argument to the wildcard list\n",
    "                wildcard_arg.append(arg)\n",
    "            # if no wildcard, append to regular arg list\n",
    "            else: \n",
    "                reg_arg.append(arg)\n",
    "        # create query statement from wildcard list\n",
    "        for arg in wildcard_arg:\n",
    "            # add a query statment to args for each arg\n",
    "            args.append(\"OR {} LIKE ('{}')\".format(col_name, arg))\n",
    "        for arg in reg_arg:\n",
    "            # add a query statment to args for each arg\n",
    "            args.append(\"OR {} = '{}'\".format(col_name, arg))\n",
    "        if len(args) > 0:\n",
    "            query_statement = ' '.join(args).replace('OR', 'AND (', 1) + ')'\n",
    "        else:\n",
    "            query_statement = ''\n",
    "    else:\n",
    "        query_statement = ''\n",
    "    return query_statement \n",
    "    \n",
    "def parse_clinvar(clin_arg):\n",
    "    if clin_arg.lower() == 'yes':\n",
    "        clin_statement = \"AND (clin_sig NOT REGEXP '3|2[^5]|2$' AND clin_sig REGEXP '4|[^25]5|^5')\"\n",
    "    elif clin_arg.lower() == 'no':\n",
    "        clin_statement = ''\n",
    "    else:\n",
    "        print \"Enter a 'yes' or 'no' value for clin_patho.\"\n",
    "    return clin_statement\n",
    "\n",
    "def parse_coding(coding_arg):\n",
    "    if coding_arg.lower() == 'yes':\n",
    "        coding_statement = \"WHERE impact = 'HIGH'\"\n",
    "    elif coding_arg.lower() == 'no':\n",
    "        coding_statement = ''\n",
    "    else:\n",
    "        print \"Enter a 'yes' or 'no' value for coding_impact.\"\n",
    "    return coding_statement\n",
    "\n",
    "def parse_singles(user_arg, column, val_type, op_type):\n",
    "    if user_arg == 'all':\n",
    "        single_statement = ''\n",
    "    else:\n",
    "        if val_type == 'int':\n",
    "            single_statement = \"AND {} {} {}\".format(column, op_type, int(user_arg))\n",
    "        elif val_type == 'float':\n",
    "            single_statement = \"AND {} {} {}\".format(column, op_type, float(user_arg))\n",
    "        elif val_type == 'string':\n",
    "            single_statement = \"AND {} {} '{}'\".format(column, op_type, str(user_arg))\n",
    "        else:\n",
    "            print \"Please check that the data type of your {} argument is either int, float or string.\".format(user_arg)\n",
    "    return single_statement\n",
    "\n",
    "def parse_genotype(gt_arg):\n",
    "    gt_list = []\n",
    "    # if gt_arg = 'all' then leave blank\n",
    "    if gt_arg == 'all':\n",
    "        gt_statement = ''\n",
    "    else:\n",
    "        # if there is more than on gt arg\n",
    "        if len(gt_arg) > 1:\n",
    "            # add a statement to gt_list\n",
    "            gt_list.append(\"AND gt IN ('{}')\".format(\"','\".join(map(str, gt_arg))))\n",
    "        # if there is only one arg\n",
    "        elif len(gt_arg) == 1:\n",
    "            # add a gt '=' statement to the list\n",
    "            gt_list.append(\"AND (gt = '{}')\".format(','.join(map(str, gt_arg))))\n",
    "    geno_statement = ' '.join(gt_list)\n",
    "    return geno_statement\n",
    "\n",
    "def merge_statements(statement_list):\n",
    "    merged_statement = ' '.join(statement_list).replace('AND', 'WHERE', 1)\n",
    "    return merged_statement\n",
    "\n",
    "# run functions on user args\n",
    "members = label_member(member_list)\n",
    "chroms = parse_arg_list(chrom_list, 'chrom')\n",
    "subjects = parse_arg_list(subject_list, 'subject_id')                                                \n",
    "genes = parse_arg_list(gene_list, 'ens_gene')\n",
    "geno = parse_genotype(geno_list)\n",
    "clin_statement = parse_clinvar(clin_patho)\n",
    "kav = parse_singles(max_kav_freq, 'kav_freq', 'float', '<=')\n",
    "dann = parse_singles(min_dann, 'dann_score', 'float', '>=')\n",
    "coding = parse_coding(coding_impact)"
   ]
  },
  {
   "cell_type": "markdown",
   "metadata": {},
   "source": [
    "### Create Merged Query Statements"
   ]
  },
  {
   "cell_type": "code",
   "execution_count": 21,
   "metadata": {
    "collapsed": false
   },
   "outputs": [],
   "source": [
    "var_statement = merge_statements([members, chroms, subjects, geno]).replace('AND', 'WHERE', 1) \n",
    "gv_statement = merge_statements([kav, clin_statement, dann])"
   ]
  },
  {
   "cell_type": "markdown",
   "metadata": {
    "collapsed": true
   },
   "source": [
    "### Write Query"
   ]
  },
  {
   "cell_type": "code",
   "execution_count": 29,
   "metadata": {
    "collapsed": false
   },
   "outputs": [
    {
     "name": "stdout",
     "output_type": "stream",
     "text": [
      "Double-check that your query is correct: \n",
      "\n",
      "    WITH vars AS \n",
      "    (\n",
      "    SELECT * \n",
      "    FROM training.illumina_vars \n",
      "         WHERE ( chrom = '1' OR chrom = '3')  \n",
      "     ),\n",
      "    gv as (\n",
      "        SELECT *\n",
      "        FROM training.global_vars\n",
      "        WHERE kav_freq <= 0.03 AND (clin_sig NOT REGEXP '3|2[^5]|2$' AND clin_sig REGEXP '4|[^25]5|^5') AND dann_score >= 0.96\n",
      "    )\n",
      "     \n",
      "    SELECT vars.*, gv.strand, gv.gene_name, gv.gene_id, gv.transcript_name,\n",
      "         gv.transcript_id, gv.clin_sig, gv.clin_dbn, gv.kav_freq, gv.kav_source,\n",
      "         gv.dbsnp_build, gv.var_type, gv.cadd_raw, gv.dann_score\n",
      "         FROM vars, gv\n",
      "         WHERE vars.chrom = gv.chrom\n",
      "         AND vars.pos = gv.pos\n",
      "         AND vars.ref = gv.ref\n",
      "         AND vars.alt = gv.alt\n",
      "    \n"
     ]
    }
   ],
   "source": [
    "query = '''\n",
    "    WITH vars AS \n",
    "    (\n",
    "    SELECT * \n",
    "    FROM training.illumina_vars \n",
    "        {}\n",
    "     ),\n",
    "    gv as (\n",
    "        SELECT *\n",
    "        FROM training.global_vars\n",
    "        {}\n",
    "    )\n",
    "     \n",
    "    SELECT vars.*, gv.strand, gv.gene_name, gv.gene_id, gv.transcript_name,\n",
    "         gv.transcript_id, gv.clin_sig, gv.clin_dbn, gv.kav_freq, gv.kav_source,\n",
    "         gv.dbsnp_build, gv.var_type, gv.cadd_raw, gv.dann_score\n",
    "         FROM vars, gv\n",
    "         WHERE vars.chrom = gv.chrom\n",
    "         AND vars.pos = gv.pos\n",
    "         AND vars.ref = gv.ref\n",
    "         AND vars.alt = gv.alt\n",
    "    '''.format(var_statement, gv_statement)\n",
    "\n",
    "print 'Double-check that your query is correct: \\n' + query"
   ]
  },
  {
   "cell_type": "markdown",
   "metadata": {
    "collapsed": true
   },
   "source": [
    "##  Query Impala"
   ]
  },
  {
   "cell_type": "markdown",
   "metadata": {},
   "source": [
    "### Connect to impala"
   ]
  },
  {
   "cell_type": "code",
   "execution_count": 23,
   "metadata": {
    "collapsed": true
   },
   "outputs": [],
   "source": [
    "# import needed modules\n",
    "from impala.util import as_pandas\n",
    "import pandas as pd\n",
    "from impala.dbapi import connect\n",
    "\n",
    "# disable extraneous pandas warning\n",
    "pd.options.mode.chained_assignment = None"
   ]
  },
  {
   "cell_type": "markdown",
   "metadata": {},
   "source": [
    "### Run Query"
   ]
  },
  {
   "cell_type": "code",
   "execution_count": 26,
   "metadata": {
    "collapsed": true
   },
   "outputs": [],
   "source": [
    "def run_query(query_name, out_db, out_name):\n",
    "    \"\"\"\n",
    "    opens odbc connection to impala, drops table if exists, runs query\n",
    "     saves results as table, closes connection\n",
    "    :param query_name: name of query statement to run\n",
    "    :param out_db: name of output database\n",
    "    :param out_name: name of output table name\n",
    "    :return: table of results saved on impala in specified output dir\n",
    "    \"\"\"\n",
    "    # create connection object\n",
    "    conn=connect(host= impala_host, port=21050, timeout=120)\n",
    "    cur = conn.cursor()\n",
    "    # run query\n",
    "    print 'Running the query on impala....'\n",
    "    cur.execute(query_name)\n",
    "    results_df = as_pandas(cur)\n",
    "    if len(results_df) > 0:\n",
    "        print 'Query finished. Closing connection.'\n",
    "        return results_df\n",
    "    else:\n",
    "        print 'No results found.'\n",
    "    cur.close()\n",
    "    conn.close()"
   ]
  },
  {
   "cell_type": "code",
   "execution_count": 28,
   "metadata": {
    "collapsed": false
   },
   "outputs": [],
   "source": [
    "# run query\n",
    "results_df = run_query(query, 'users_selasady', 'filtered_variants')"
   ]
  }
 ],
 "metadata": {
  "kernelspec": {
   "display_name": "Python 2",
   "language": "python",
   "name": "python2"
  },
  "language_info": {
   "codemirror_mode": {
    "name": "ipython",
    "version": 2
   },
   "file_extension": ".py",
   "mimetype": "text/x-python",
   "name": "python",
   "nbconvert_exporter": "python",
   "pygments_lexer": "ipython2",
   "version": "2.7.10"
  }
 },
 "nbformat": 4,
 "nbformat_minor": 0
}
